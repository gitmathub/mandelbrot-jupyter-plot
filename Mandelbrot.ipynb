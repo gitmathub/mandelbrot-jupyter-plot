{
 "cells": [
  {
   "cell_type": "code",
   "execution_count": 1,
   "metadata": {},
   "outputs": [],
   "source": [
    "from PIL import Image;\n",
    "from numpy import complex;\n",
    "import numpy as np;\n",
    "import time"
   ]
  },
  {
   "cell_type": "code",
   "execution_count": 2,
   "metadata": {},
   "outputs": [],
   "source": [
    "imageWidth = 500\n",
    "imageHeight = 500\n",
    "depth = 30\n",
    "\n",
    "counter = 2*imageWidth/100\n",
    "\n",
    "startTime = time.time()\n",
    "\n",
    "image = Image.new(\"RGB\", (imageWidth*2, imageHeight*2))\n",
    "pixels = image.load()\n",
    "\n",
    "colorPaletteBlueToRed = [(30,56,136), (71,168,189), (245,230,99), (255,173,105), (156,56,72)]\n",
    "colorPaletteBrownish = [(42, 29, 53), (117, 51, 44), (178, 79, 55), (201, 128, 68), (201, 147, 80)]\n",
    "colorPalettePastelBlue = [(216, 219, 226), (169, 188, 208), (88, 164, 176), (55, 63, 81), (27, 27, 30)]\n",
    "colorPaletteBluetoYellow = [(0, 100, 140), (0, 126, 142), (0, 168, 151), (0, 193, 151), (236, 242, 152)]\n",
    "\n",
    "colorPalettePastelBlue.reverse()\n",
    "color = colorPaletteBlueToRed + colorPalettePastelBlue + colorPaletteBrownish + colorPaletteBluetoYellow + colorPaletteBlueToRed + colorPalettePastelBlue + colorPaletteBrownish + colorPaletteBluetoYellow"
   ]
  },
  {
   "cell_type": "markdown",
   "metadata": {},
   "source": [
    "## $Mandelbrot$ $Iteration$ $Forumla$\n",
    "By iterating complex constants with a magnitude less than 2 and observing which of the constants grow larger than the pre defined rdius of 2, the mandelbrot is created.\n",
    "$$\n",
    "z_{n+1} = z_n^2+c\n",
    "$$\n",
    "With $z_n = 0$ at the beginning and $c$ being the complex vector."
   ]
  },
  {
   "cell_type": "code",
   "execution_count": 4,
   "metadata": {},
   "outputs": [
    {
     "name": "stdout",
     "output_type": "stream",
     "text": [
      "0.0 %\n",
      "1.0 %\n",
      "2.0 %\n",
      "3.0 %\n",
      "4.0 %\n",
      "5.0 %\n",
      "6.0 %\n",
      "7.0 %\n",
      "8.0 %\n",
      "9.0 %\n",
      "10.0 %\n",
      "11.0 %\n",
      "12.0 %\n",
      "13.0 %\n",
      "14.0 %\n",
      "15.0 %\n",
      "16.0 %\n",
      "17.0 %\n",
      "18.0 %\n",
      "19.0 %\n",
      "20.0 %\n",
      "21.0 %\n",
      "22.0 %\n",
      "23.0 %\n",
      "24.0 %\n",
      "25.0 %\n",
      "26.0 %\n",
      "27.0 %\n",
      "28.0 %\n",
      "29.0 %\n",
      "30.0 %\n",
      "31.0 %\n",
      "32.0 %\n",
      "33.0 %\n",
      "34.0 %\n",
      "35.0 %\n",
      "36.0 %\n",
      "37.0 %\n",
      "38.0 %\n",
      "39.0 %\n",
      "40.0 %\n",
      "41.0 %\n",
      "42.0 %\n",
      "43.0 %\n",
      "44.0 %\n",
      "45.0 %\n",
      "46.0 %\n",
      "47.0 %\n",
      "48.0 %\n",
      "49.0 %\n",
      "50.0 %\n",
      "51.0 %\n",
      "52.0 %\n",
      "53.0 %\n",
      "54.0 %\n",
      "55.0 %\n",
      "56.0 %\n",
      "57.0 %\n",
      "58.0 %\n",
      "59.0 %\n",
      "60.0 %\n",
      "61.0 %\n",
      "62.0 %\n",
      "63.0 %\n",
      "64.0 %\n",
      "65.0 %\n",
      "66.0 %\n",
      "67.0 %\n",
      "68.0 %\n",
      "69.0 %\n",
      "70.0 %\n",
      "71.0 %\n",
      "72.0 %\n",
      "73.0 %\n",
      "74.0 %\n",
      "75.0 %\n",
      "76.0 %\n",
      "77.0 %\n",
      "78.0 %\n",
      "79.0 %\n",
      "80.0 %\n",
      "81.0 %\n",
      "82.0 %\n",
      "83.0 %\n",
      "84.0 %\n",
      "85.0 %\n",
      "86.0 %\n",
      "87.0 %\n",
      "88.0 %\n",
      "89.0 %\n",
      "90.0 %\n",
      "91.0 %\n",
      "92.0 %\n",
      "93.0 %\n",
      "94.0 %\n",
      "95.0 %\n",
      "96.0 %\n",
      "97.0 %\n",
      "98.0 %\n",
      "99.0 %\n",
      "duration 371\n"
     ]
    }
   ],
   "source": [
    "for y in range(- imageWidth, imageWidth):\n",
    "    \n",
    "    if (y % counter == 0):\n",
    "        print((y + imageWidth) / counter, \"%\")\n",
    "        \n",
    "    for x in range(- imageHeight, imageHeight):\n",
    "        c = ((x/(imageWidth/2)) + (y/(imageHeight/2))*1j)\n",
    "        \n",
    "        z = 0\n",
    "        \n",
    "        for i in range(depth):\n",
    "            z = z**2 + c\n",
    "            if abs(z) > 2:\n",
    "                \n",
    "                pixels[x + (imageWidth), y + (imageHeight)] = color[i]\n",
    "                break\n",
    "image.show()\n",
    "\n",
    "endTime = time.time()\n",
    "print(\"duration\", np.abs(int(startTime - endTime)))"
   ]
  },
  {
   "cell_type": "code",
   "execution_count": 1,
   "metadata": {},
   "outputs": [],
   "source": [
    "import time"
   ]
  },
  {
   "cell_type": "code",
   "execution_count": 2,
   "metadata": {},
   "outputs": [
    {
     "data": {
      "text/plain": [
       "1562610668.7442281"
      ]
     },
     "execution_count": 2,
     "metadata": {},
     "output_type": "execute_result"
    }
   ],
   "source": [
    "time.time()"
   ]
  },
  {
   "cell_type": "code",
   "execution_count": 3,
   "metadata": {},
   "outputs": [
    {
     "data": {
      "text/plain": [
       "1562610689.4919"
      ]
     },
     "execution_count": 3,
     "metadata": {},
     "output_type": "execute_result"
    }
   ],
   "source": [
    "time.time()"
   ]
  },
  {
   "cell_type": "code",
   "execution_count": 3,
   "metadata": {},
   "outputs": [],
   "source": [
    "image.show()\n",
    "\n"
   ]
  }
 ],
 "metadata": {
  "kernelspec": {
   "display_name": "Python 3",
   "language": "python",
   "name": "python3"
  },
  "language_info": {
   "codemirror_mode": {
    "name": "ipython",
    "version": 3
   },
   "file_extension": ".py",
   "mimetype": "text/x-python",
   "name": "python",
   "nbconvert_exporter": "python",
   "pygments_lexer": "ipython3",
   "version": "3.7.4"
  }
 },
 "nbformat": 4,
 "nbformat_minor": 2
}
