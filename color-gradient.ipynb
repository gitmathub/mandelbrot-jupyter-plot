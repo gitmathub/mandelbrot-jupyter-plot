{
 "cells": [
  {
   "cell_type": "markdown",
   "metadata": {},
   "source": [
    "# Create a color palette\n",
    "\n",
    "```\n",
    "colorCount = 20\n",
    "startColor = [100,200,170] # green\n",
    "endColor = [255,255,255]   # white\n",
    "\n",
    "palette = colorPalette(startColor, endColor, colorCount)\n",
    "```\n",
    "\n",
    "*colorCount* Number of the colors in the palette\n",
    "\n",
    "*startColor* Starting color\n",
    "\n",
    "*endColor* Endind color"
   ]
  },
  {
   "cell_type": "code",
   "execution_count": 48,
   "metadata": {},
   "outputs": [
    {
     "name": "stdout",
     "output_type": "stream",
     "text": [
      "0 (100, 200, 170)\n",
      "1 (107, 202, 174)\n",
      "2 (115, 205, 178)\n",
      "3 (123, 208, 182)\n",
      "4 (131, 211, 187)\n",
      "5 (138, 213, 191)\n",
      "6 (146, 216, 195)\n",
      "7 (154, 219, 199)\n",
      "8 (162, 222, 204)\n",
      "9 (169, 224, 208)\n",
      "10 (177, 227, 212)\n",
      "11 (185, 230, 216)\n",
      "12 (193, 233, 221)\n",
      "13 (200, 235, 225)\n",
      "14 (208, 238, 229)\n",
      "15 (216, 241, 233)\n",
      "16 (224, 244, 238)\n",
      "17 (231, 246, 242)\n",
      "18 (239, 249, 246)\n",
      "19 (247, 252, 250)\n",
      "palette [(100, 200, 170), (107, 202, 174), (115, 205, 178), (123, 208, 182), (131, 211, 187), (138, 213, 191), (146, 216, 195), (154, 219, 199), (162, 222, 204), (169, 224, 208), (177, 227, 212), (185, 230, 216), (193, 233, 221), (200, 235, 225), (208, 238, 229), (216, 241, 233), (224, 244, 238), (231, 246, 242), (239, 249, 246), (247, 252, 250)]\n"
     ]
    }
   ],
   "source": [
    "\n",
    "def colorPalette(startColor, endColor, colorCount):\n",
    "\n",
    "    def createColor(startColor, endColor, colorCount, colorOrdinal):\n",
    "        fraction = colorOrdinal/ colorCount\n",
    "        return(\n",
    "            int((1 - fraction) * startColor[0] + fraction * endColor[0]),\n",
    "            int((1 - fraction) * startColor[1] + fraction * endColor[1]),\n",
    "            int((1 - fraction) * startColor[2] + fraction * endColor[2]))\n",
    "\n",
    "    palette = []\n",
    "    for colorOrdinal in range(colorCount):\n",
    "        color = createColor(startColor, endColor, colorCount, colorOrdinal)\n",
    "        print(colorOrdinal, color)\n",
    "        palette.append(color)\n",
    "    return palette\n"
   ]
  },
  {
   "cell_type": "code",
   "execution_count": 1,
   "metadata": {},
   "outputs": [
    {
     "ename": "NameError",
     "evalue": "name 'colorPalette' is not defined",
     "output_type": "error",
     "traceback": [
      "\u001b[0;31m---------------------------------------------------------------------------\u001b[0m",
      "\u001b[0;31mNameError\u001b[0m                                 Traceback (most recent call last)",
      "\u001b[0;32m<ipython-input-1-91ce54fe02e8>\u001b[0m in \u001b[0;36m<module>\u001b[0;34m\u001b[0m\n\u001b[1;32m     14\u001b[0m \u001b[0mendColor\u001b[0m \u001b[0;34m=\u001b[0m \u001b[0;34m[\u001b[0m\u001b[0;36m255\u001b[0m\u001b[0;34m,\u001b[0m\u001b[0;36m255\u001b[0m\u001b[0;34m,\u001b[0m\u001b[0;36m255\u001b[0m\u001b[0;34m]\u001b[0m   \u001b[0;31m# white\u001b[0m\u001b[0;34m\u001b[0m\u001b[0;34m\u001b[0m\u001b[0m\n\u001b[1;32m     15\u001b[0m \u001b[0;34m\u001b[0m\u001b[0m\n\u001b[0;32m---> 16\u001b[0;31m \u001b[0mpalette\u001b[0m \u001b[0;34m=\u001b[0m \u001b[0mcolorPalette\u001b[0m\u001b[0;34m(\u001b[0m\u001b[0mstartColor\u001b[0m\u001b[0;34m,\u001b[0m \u001b[0mendColor\u001b[0m\u001b[0;34m,\u001b[0m \u001b[0mcolorCount\u001b[0m\u001b[0;34m)\u001b[0m\u001b[0;34m\u001b[0m\u001b[0;34m\u001b[0m\u001b[0m\n\u001b[0m\u001b[1;32m     17\u001b[0m \u001b[0mcreateTestImage\u001b[0m\u001b[0;34m(\u001b[0m\u001b[0mpalette\u001b[0m\u001b[0;34m)\u001b[0m\u001b[0;34m\u001b[0m\u001b[0;34m\u001b[0m\u001b[0m\n",
      "\u001b[0;31mNameError\u001b[0m: name 'colorPalette' is not defined"
     ]
    }
   ],
   "source": [
    "from PIL import Image\n",
    "\n",
    "def createTestImage(palette):\n",
    "    imageWidth = len(palette)\n",
    "    imageHeight = 1\n",
    "    image = Image.new(\"RGB\", (imageWidth, imageHeight))\n",
    "    pixels = image.load()\n",
    "    for i in range(imageWidth):\n",
    "        pixels[i, 0] = palette[i]\n",
    "    image.show()\n",
    "    \n",
    "colorCount = 20\n",
    "startColor = [100,200,170] # green\n",
    "endColor = [255,255,255]   # white\n",
    "\n",
    "palette = colorPalette(startColor, endColor, colorCount)\n",
    "createTestImage(palette)"
   ]
  },
  {
   "cell_type": "code",
   "execution_count": null,
   "metadata": {},
   "outputs": [],
   "source": []
  }
 ],
 "metadata": {
  "kernelspec": {
   "display_name": "Python 3",
   "language": "python",
   "name": "python3"
  },
  "language_info": {
   "codemirror_mode": {
    "name": "ipython",
    "version": 3
   },
   "file_extension": ".py",
   "mimetype": "text/x-python",
   "name": "python",
   "nbconvert_exporter": "python",
   "pygments_lexer": "ipython3",
   "version": "3.7.4"
  }
 },
 "nbformat": 4,
 "nbformat_minor": 2
}
