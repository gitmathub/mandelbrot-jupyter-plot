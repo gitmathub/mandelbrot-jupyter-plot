{
 "cells": [
  {
   "cell_type": "code",
   "execution_count": 1,
   "metadata": {},
   "outputs": [],
   "source": [
    "from PIL import Image;\n",
    "from numpy import complex;\n",
    "import numpy as np;\n",
    "import time"
   ]
  },
  {
   "cell_type": "code",
   "execution_count": 38,
   "metadata": {},
   "outputs": [],
   "source": [
    "imageWidth = 5000\n",
    "imageHeight = 5000\n",
    "depth = 20\n",
    "\n",
    "counter = 2*imageWidth/100\n",
    "\n",
    "startTime = time.time()\n",
    "\n",
    "image = Image.new(\"RGB\", (imageWidth*2, imageHeight*2))\n",
    "pixels = image.load()\n",
    "\n",
    "colorPaletteBlueToRed = [(30,56,136), (71,168,189), (245,230,99), (255,173,105), (156,56,72)]\n",
    "colorPaletteBrownish = [(42, 29, 53), (117, 51, 44), (178, 79, 55), (201, 128, 68), (201, 147, 80)]\n",
    "colorPalettePastelBlue = [(216, 219, 226), (169, 188, 208), (88, 164, 176), (55, 63, 81), (27, 27, 30)]\n",
    "colorPaletteBluetoYellow = [(0, 100, 140), (0, 126, 142), (0, 168, 151), (0, 193, 151), (236, 242, 152)]\n",
    "\n",
    "colorPalettePastelBlue.reverse()\n",
    "color = colorPaletteBlueToRed + colorPalettePastelBlue + colorPaletteBrownish  + colorPaletteBluetoYellow"
   ]
  },
  {
   "cell_type": "markdown",
   "metadata": {},
   "source": [
    "## $Mandelbrot$ $Iteration$ $Forumla$\n",
    "By iterating complex constants with a magnitude less than 2 and observing which of the constants grow larger than the pre defined rdius of 2, the mandelbrot is created.\n",
    "$$\n",
    "z_{n+1} = z_n^2+c\n",
    "$$\n",
    "With $z_n = 0$ at the beginning and $c$ being the complex vector."
   ]
  },
  {
   "cell_type": "code",
   "execution_count": null,
   "metadata": {},
   "outputs": [
    {
     "name": "stdout",
     "output_type": "stream",
     "text": [
      "0.0 %\n",
      "1.0 %\n",
      "2.0 %\n",
      "3.0 %\n",
      "4.0 %\n",
      "5.0 %\n",
      "6.0 %\n",
      "7.0 %\n",
      "8.0 %\n",
      "9.0 %\n",
      "10.0 %\n",
      "11.0 %\n",
      "12.0 %\n",
      "13.0 %\n",
      "14.0 %\n",
      "15.0 %\n",
      "16.0 %\n",
      "17.0 %\n",
      "18.0 %\n",
      "19.0 %\n",
      "20.0 %\n",
      "21.0 %\n"
     ]
    }
   ],
   "source": [
    "for y in range(- imageWidth, imageWidth):\n",
    "    \n",
    "    if (y % counter == 0):\n",
    "        print((y + imageWidth) / counter, \"%\")\n",
    "        \n",
    "    for x in range(- imageHeight, imageHeight):\n",
    "        c = ((x/(imageWidth/2)) + (y/(imageHeight/2))*1j)\n",
    "        \n",
    "        z = 0\n",
    "        \n",
    "        for i in range(depth):\n",
    "            z = z**2 + c\n",
    "            if abs(z) > 2:\n",
    "                \n",
    "                pixels[x + (imageWidth), y + (imageHeight)] = color[i]\n",
    "                break\n",
    "image.show()\n",
    "\n",
    "endTime = time.time()\n",
    "print(\"duration\", int(startTime - endTime))"
   ]
  },
  {
   "cell_type": "code",
   "execution_count": null,
   "metadata": {},
   "outputs": [],
   "source": []
  }
 ],
 "metadata": {
  "kernelspec": {
   "display_name": "Python 3",
   "language": "python",
   "name": "python3"
  },
  "language_info": {
   "codemirror_mode": {
    "name": "ipython",
    "version": 3
   },
   "file_extension": ".py",
   "mimetype": "text/x-python",
   "name": "python",
   "nbconvert_exporter": "python",
   "pygments_lexer": "ipython3",
   "version": "3.7.3"
  }
 },
 "nbformat": 4,
 "nbformat_minor": 2
}
