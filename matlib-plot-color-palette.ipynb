{
 "cells": [
  {
   "cell_type": "code",
   "execution_count": 2,
   "metadata": {},
   "outputs": [],
   "source": [
    "from PIL import Image;"
   ]
  },
  {
   "cell_type": "code",
   "execution_count": 3,
   "metadata": {},
   "outputs": [],
   "source": [
    "imageWidth = imageHeight = 100\n",
    "startColor = (100,200,170)\n",
    "image = Image.new(\"RGB\", (imageWidth, imageHeight), startColor)\n",
    "image.show()"
   ]
  },
  {
   "cell_type": "code",
   "execution_count": 4,
   "metadata": {},
   "outputs": [],
   "source": [
    "endColor = (255,255,255)\n"
   ]
  },
  {
   "cell_type": "code",
   "execution_count": 5,
   "metadata": {},
   "outputs": [
    {
     "name": "stdout",
     "output_type": "stream",
     "text": [
      "(0.26851, 0.009605, 0.335427, 1.0)\n",
      "(0.440137, 0.811138, 0.340967, 1.0)\n",
      "[16.42090594 86.946585   61.61531265]\n",
      "(16, 86, 61)\n"
     ]
    },
    {
     "data": {
      "text/plain": [
       "<Figure size 600x300 with 3 Axes>"
      ]
     },
     "metadata": {},
     "output_type": "display_data"
    }
   ],
   "source": [
    "import numpy as np\n",
    "import matplotlib.pyplot as plt\n",
    "from matplotlib import cm\n",
    "from matplotlib.colors import ListedColormap, LinearSegmentedColormap\n",
    "import colorsys \n",
    "\n",
    "viridis = cm.get_cmap('viridis', 256)\n",
    "# newcolors = viridis(np.linspace(0, 1, 256))\n",
    "# pink = np.array([248/256, 24/256, 148/256, 1])\n",
    "# newcolors[:25, :] = pink\n",
    "# newcmp = ListedColormap(newcolors)\n",
    "\n",
    "print(viridis(1))\n",
    "print(viridis(200))\n",
    "\n",
    "# color = 255 * np.array( colorsys.hsv_to_rgb(0.26851, 0.009605, 0.335427))\n",
    "# color = 255 * np.array( colorsys.hsv_to_rgb(0.283197, 0.11568, 0.436115))\n",
    "color = 255 * np.array(colorsys.hsv_to_rgb(0.440137, 0.811138, 0.340967))\n",
    "\n",
    "print(color)\n",
    "colorInt = tuple(color.astype(int)) \n",
    "print(colorInt)\n",
    "\n",
    "\n",
    "def plot_examples(cms):\n",
    "    \"\"\"\n",
    "    helper function to plot two colormaps\n",
    "    \"\"\"\n",
    "    np.random.seed(19680801)\n",
    "    data = np.random.randn(30, 30)\n",
    "\n",
    "    fig, axs = plt.subplots(1, 2, figsize=(6, 3), constrained_layout=True)\n",
    "    for [ax, cmap] in zip(axs, cms):\n",
    "        psm = ax.pcolormesh(data, cmap=cmap, rasterized=True, vmin=-4, vmax=4)\n",
    "        fig.colorbar(psm, ax=ax)\n",
    "    plt.show()\n",
    "\n",
    "plot_examples([viridis])\n",
    "\n",
    "# color = tuple(viridis) \n",
    "img = Image.new(\"HSV\", (imageWidth, imageHeight), colorInt)\n",
    "img.show()"
   ]
  },
  {
   "cell_type": "code",
   "execution_count": null,
   "metadata": {},
   "outputs": [],
   "source": []
  }
 ],
 "metadata": {
  "kernelspec": {
   "display_name": "Python 3",
   "language": "python",
   "name": "python3"
  },
  "language_info": {
   "codemirror_mode": {
    "name": "ipython",
    "version": 3
   },
   "file_extension": ".py",
   "mimetype": "text/x-python",
   "name": "python",
   "nbconvert_exporter": "python",
   "pygments_lexer": "ipython3",
   "version": "3.7.4"
  }
 },
 "nbformat": 4,
 "nbformat_minor": 2
}
